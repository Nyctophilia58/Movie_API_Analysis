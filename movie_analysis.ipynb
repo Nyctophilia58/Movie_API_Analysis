{
 "cells": [
  {
   "cell_type": "code",
   "execution_count": null,
   "metadata": {
    "datalore": {
     "hide_input_from_viewers": false,
     "hide_output_from_viewers": false,
     "node_id": "fKvBohLRHVax3s2xSkoGAp",
     "type": "CODE"
    },
    "pycharm": {
     "is_executing": true,
     "name": "#%%\n"
    }
   },
   "outputs": [],
   "source": [
    "import pandas as pd\n",
    "import matplotlib.pyplot as plt\n",
    "import numpy as np\n",
    "import seaborn as sns\n",
    "sns.set_theme()\n",
    "\n",
    "movie = pd.read_csv(\"movies.csv\")"
   ]
  },
  {
   "cell_type": "markdown",
   "metadata": {
    "datalore": {
     "hide_input_from_viewers": false,
     "hide_output_from_viewers": false,
     "node_id": "JnK02AYukjk5L7mNlh2Sdy",
     "type": "MD"
    },
    "pycharm": {
     "name": "#%% md\n"
    }
   },
   "source": [
    "#### NOTE: Imported all the necessary packages and the csv file as movie.csv"
   ]
  },
  {
   "cell_type": "code",
   "execution_count": null,
   "metadata": {
    "datalore": {
     "hide_input_from_viewers": false,
     "hide_output_from_viewers": false,
     "node_id": "YxowG1d2Gc9sy9Ow0iDzpk",
     "type": "CODE"
    },
    "pycharm": {
     "name": "#%%\n"
    }
   },
   "outputs": [],
   "source": [
    "runtime = movie.groupby([\"Movie Title\"]).sum().plot(kind=\"bar\", title='Runtime of each movie', color = \"#566D7E\", y=\"Runtime\")"
   ]
  },
  {
   "cell_type": "markdown",
   "metadata": {
    "datalore": {
     "hide_input_from_viewers": false,
     "hide_output_from_viewers": false,
     "node_id": "961P69ee5nWwuVdNzMWzlX",
     "type": "MD"
    },
    "pycharm": {
     "name": "#%% md\n"
    }
   },
   "source": [
    "#### NOTE: Here I've used a bar chart to find out the runtime of each movie. The x-axis contains Movie Title in alphabetical order and the y axis contains Runtime of each movie."
   ]
  },
  {
   "cell_type": "code",
   "execution_count": null,
   "metadata": {
    "datalore": {
     "hide_input_from_viewers": false,
     "hide_output_from_viewers": false,
     "node_id": "YGSRjPKv7dy6s9nYf95OCw",
     "type": "CODE"
    },
    "pycharm": {
     "name": "#%%\n"
    }
   },
   "outputs": [],
   "source": [
    "highest_runtime = movie[\"Runtime\"].max()\n",
    "longest_runtime_movie = movie[movie[\"Runtime\"] == highest_runtime]\n",
    "print(\"The movie that had the longest runtime is: \")\n",
    "longest_runtime_movie[\"Movie Title\"]"
   ]
  },
  {
   "cell_type": "markdown",
   "metadata": {
    "datalore": {
     "hide_input_from_viewers": false,
     "hide_output_from_viewers": false,
     "node_id": "NU3EsE0Z2fhdgtvrNtGQo5",
     "type": "MD"
    },
    "pycharm": {
     "name": "#%% md\n"
    }
   },
   "source": [
    "#### NOTE: From the graph above, we can clearly say that \"12 Years a Slave\" had the longest runtime. But I've used the max method of dataframe to be sure.\n",
    "#### After getting the highest runtime, I extracted out the Movie Title from that row containing the highest runtime."
   ]
  },
  {
   "cell_type": "code",
   "execution_count": null,
   "metadata": {
    "datalore": {
     "hide_input_from_viewers": false,
     "hide_output_from_viewers": false,
     "node_id": "4QaEFSXx9DGGmIQWrpThiS",
     "type": "CODE"
    },
    "pycharm": {
     "name": "#%%\n"
    }
   },
   "outputs": [],
   "source": [
    "movie.groupby([\"Runtime\"]).sum().plot(kind=\"line\", color = \"#34282C\", linestyle = \"dashed\", title='Relationship between the runtime and awards won', y=\"Award Wins\")"
   ]
  },
  {
   "cell_type": "markdown",
   "metadata": {
    "datalore": {
     "hide_input_from_viewers": false,
     "hide_output_from_viewers": false,
     "node_id": "vvCpkJhwTQptWfFZqFDaMX",
     "type": "MD"
    },
    "pycharm": {
     "name": "#%% md\n"
    }
   },
   "source": [
    "#### NOTE: There's no exact relation between the length of the movie (runtime) and the number of awards a movie won."
   ]
  },
  {
   "cell_type": "code",
   "execution_count": null,
   "metadata": {
    "datalore": {
     "hide_input_from_viewers": false,
     "hide_output_from_viewers": false,
     "node_id": "8RoosjuYrpQPFbxV0HOxCt",
     "type": "CODE"
    },
    "pycharm": {
     "name": "#%%\n"
    }
   },
   "outputs": [],
   "source": [
    "awards_and_nominations = movie.groupby([\"Movie Title\"]).sum().plot(kind=\"bar\", title='Runtime of each movie', color = [\"#915F6D\",\"Gray\"], y=[\"Award Wins\",\"Award Nominations\"])"
   ]
  },
  {
   "cell_type": "markdown",
   "metadata": {
    "datalore": {
     "hide_input_from_viewers": false,
     "hide_output_from_viewers": false,
     "node_id": "PNP5oAL2Hq7NkbXkMc2i6M",
     "type": "MD"
    },
    "pycharm": {
     "name": "#%% md\n"
    }
   },
   "source": [
    "#### NOTE: I've used the bar chart to show the number of awards and nominations each movie received. Here I used mauve taupe color for the award wins and gray for the award nominations."
   ]
  },
  {
   "cell_type": "code",
   "execution_count": null,
   "metadata": {
    "datalore": {
     "hide_input_from_viewers": false,
     "hide_output_from_viewers": false,
     "node_id": "cQDcCAC2F3nMzXbDSw1Cx4",
     "type": "CODE"
    },
    "pycharm": {
     "name": "#%%\n"
    }
   },
   "outputs": [],
   "source": [
    "total_nominations = movie[\"Award Wins\"]+movie[\"Award Nominations\"]\n",
    "movie[\"Total Nominations\"] = total_nominations\n",
    "movie.groupby([\"Total Nominations\"]).sum().plot(kind=\"line\", color = \"#34282C\", linestyle = \"dashed\", title='Relationship between boxoffice earnings and total nominations', y=\"Box Office\")"
   ]
  },
  {
   "cell_type": "markdown",
   "metadata": {
    "datalore": {
     "hide_input_from_viewers": false,
     "hide_output_from_viewers": false,
     "node_id": "FHD3qM2dEYcM8ukSiLl1aa",
     "type": "MD"
    },
    "pycharm": {
     "name": "#%% md\n"
    }
   },
   "source": [
    "#### NOTE: There is no observable relationship between boxoffice earning and total nominations."
   ]
  },
  {
   "cell_type": "code",
   "execution_count": null,
   "metadata": {
    "datalore": {
     "hide_input_from_viewers": false,
     "hide_output_from_viewers": false,
     "node_id": "aX8ABdWCXQNR0HrNsUj657",
     "type": "CODE"
    },
    "pycharm": {
     "name": "#%%\n"
    }
   },
   "outputs": [],
   "source": [
    "movie.groupby([\"Runtime\"]).sum().plot(kind=\"line\", color = \"#34282C\", linestyle = \"dashed\", title='Relationship between boxoffice earnings and runtime', y=\"Box Office\")"
   ]
  },
  {
   "cell_type": "markdown",
   "metadata": {
    "datalore": {
     "hide_input_from_viewers": false,
     "hide_output_from_viewers": false,
     "node_id": "mUcaFqDcqbTL5GW9bZ8XXc",
     "type": "MD"
    },
    "pycharm": {
     "name": "#%% md\n"
    }
   },
   "source": [
    "#### NOTE: There is no observable relationship between boxoffice earning and runtime."
   ]
  },
  {
   "cell_type": "code",
   "execution_count": null,
   "metadata": {
    "datalore": {
     "hide_input_from_viewers": false,
     "hide_output_from_viewers": false,
     "node_id": "uRyYuURiuMsq8PMglEr3G6",
     "type": "CODE"
    },
    "pycharm": {
     "name": "#%%\n"
    }
   },
   "outputs": [],
   "source": [
    "movie.groupby([\"Movie Title\"]).sum().plot(kind=\"bar\", title='Boxoffice earning of each movie', color = \"#566D7E\", y=\"Box Office\")"
   ]
  },
  {
   "cell_type": "markdown",
   "metadata": {
    "datalore": {
     "hide_input_from_viewers": false,
     "hide_output_from_viewers": false,
     "node_id": "7hsatMphho2thh2e4iDqO3",
     "type": "MD"
    },
    "pycharm": {
     "name": "#%% md\n"
    }
   },
   "source": [
    "#### NOTE: Here I've used a bar chart to find out how much each movie earned at the boxoffice. The x-axis contains Movie Title in alphabetical order and the y axis contains boxoffice earning of each movie.\n",
    "#### The king's speech movie earned the most at boxoffice."
   ]
  },
  {
   "cell_type": "code",
   "execution_count": null,
   "metadata": {
    "datalore": {
     "hide_input_from_viewers": false,
     "hide_output_from_viewers": false,
     "node_id": "Yh85WpN49CrajdHsYbgT9C",
     "type": "CODE"
    },
    "pycharm": {
     "name": "#%%\n"
    }
   },
   "outputs": [],
   "source": [
    "movie.head()\n",
    "array = movie[\"Genre\"]\n",
    "j = []\n",
    "for i in array:\n",
    "    i = i.split(\", \")\n",
    "    j.extend(i)\n",
    "\n",
    "a = np.array(j)\n",
    "unique_elements, counts_elements = np.unique(a, return_counts=True)\n",
    "\n",
    "fig = plt.figure(figsize = (10, 5))\n",
    "\n",
    "plt.bar(unique_elements, counts_elements, color ='maroon', width = 0.4)\n",
    " \n",
    "plt.xlabel(\"Genre\")\n",
    "plt.ylabel(\"Total count\")\n",
    "plt.title(\"Total count of each genre present in the dataset\")\n",
    "plt.show()"
   ]
  },
  {
   "cell_type": "markdown",
   "metadata": {},
   "source": [
    "#### NOTE: Using numpy array I've extracted all the unique genres and their total count. Then I plotted them where x-axis contains \"Genre\" and y-axis contains \"Total count\"."
   ]
  }
 ],
 "metadata": {
  "datalore": {
   "base_environment": "default",
   "computation_mode": "REACTIVE",
   "package_manager": "pip",
   "packages": [],
   "version": 1
  },
  "kernelspec": {
   "display_name": "Python 3 (ipykernel)",
   "language": "python",
   "name": "python3"
  },
  "language_info": {
   "codemirror_mode": {
    "name": "ipython",
    "version": 3
   },
   "file_extension": ".py",
   "mimetype": "text/x-python",
   "name": "python",
   "nbconvert_exporter": "python",
   "pygments_lexer": "ipython3",
   "version": "3.10.6"
  }
 },
 "nbformat": 4,
 "nbformat_minor": 4
}
